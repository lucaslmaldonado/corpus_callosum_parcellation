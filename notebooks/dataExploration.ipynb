{
 "cells": [
  {
   "cell_type": "code",
   "execution_count": 1,
   "id": "399bf3b1",
   "metadata": {},
   "outputs": [],
   "source": [
    "import numpy as np\n",
    "import nibabel as nib\n",
    "from matplotlib import pyplot as plt\n",
    "import pandas as pd\n",
    "import os\n",
    "from scipy import ndimage as ndi\n",
    "import ipywidgets as widgets\n",
    "from ipywidgets import interact, interact_manual"
   ]
  },
  {
   "cell_type": "markdown",
   "id": "29859714",
   "metadata": {},
   "source": [
    "Vou criar um dataframe com as informações de cada imagem, assim vou poder obter informações sobre elas sem precisar processar uma string toda vez. Além disso vou ter a possibilidade de selecionar imagens por características mais facilmente."
   ]
  },
  {
   "cell_type": "code",
   "execution_count": 5,
   "id": "5b6dd7e5",
   "metadata": {},
   "outputs": [
    {
     "data": {
      "text/html": [
       "<div>\n",
       "<style scoped>\n",
       "    .dataframe tbody tr th:only-of-type {\n",
       "        vertical-align: middle;\n",
       "    }\n",
       "\n",
       "    .dataframe tbody tr th {\n",
       "        vertical-align: top;\n",
       "    }\n",
       "\n",
       "    .dataframe thead th {\n",
       "        text-align: right;\n",
       "    }\n",
       "</style>\n",
       "<table border=\"1\" class=\"dataframe\">\n",
       "  <thead>\n",
       "    <tr style=\"text-align: right;\">\n",
       "      <th></th>\n",
       "      <th>id</th>\n",
       "      <th>vendor</th>\n",
       "      <th>field</th>\n",
       "      <th>age</th>\n",
       "      <th>sex</th>\n",
       "    </tr>\n",
       "  </thead>\n",
       "  <tbody>\n",
       "    <tr>\n",
       "      <th>count</th>\n",
       "      <td>359</td>\n",
       "      <td>359</td>\n",
       "      <td>359</td>\n",
       "      <td>359</td>\n",
       "      <td>359</td>\n",
       "    </tr>\n",
       "    <tr>\n",
       "      <th>unique</th>\n",
       "      <td>359</td>\n",
       "      <td>3</td>\n",
       "      <td>2</td>\n",
       "      <td>37</td>\n",
       "      <td>2</td>\n",
       "    </tr>\n",
       "    <tr>\n",
       "      <th>top</th>\n",
       "      <td>0001</td>\n",
       "      <td>siemens</td>\n",
       "      <td>3</td>\n",
       "      <td>56</td>\n",
       "      <td>F</td>\n",
       "    </tr>\n",
       "    <tr>\n",
       "      <th>freq</th>\n",
       "      <td>1</td>\n",
       "      <td>120</td>\n",
       "      <td>180</td>\n",
       "      <td>26</td>\n",
       "      <td>183</td>\n",
       "    </tr>\n",
       "  </tbody>\n",
       "</table>\n",
       "</div>"
      ],
      "text/plain": [
       "          id   vendor field  age  sex\n",
       "count    359      359   359  359  359\n",
       "unique   359        3     2   37    2\n",
       "top     0001  siemens     3   56    F\n",
       "freq       1      120   180   26  183"
      ]
     },
     "execution_count": 5,
     "metadata": {},
     "output_type": "execute_result"
    }
   ],
   "source": [
    "dir_name = \"../data/raw\"\n",
    "file_names = os.listdir(dir_name)\n",
    "file_names.sort()\n",
    "file_data = []#{'id':[], 'vendor':[],'field':[],'age':[],'sex':[]}\n",
    "for file_name in file_names:\n",
    "    file_data.append(file_name[2:-4].split(\"_\"))\n",
    "    \n",
    "df_file_data = pd.DataFrame(file_data, columns=['id', 'vendor', 'field', 'age', 'sex'])\n",
    "df_file_data.to_csv(\"../data/description.csv\", index=False)\n",
    "df_file_data.describe()"
   ]
  },
  {
   "cell_type": "code",
   "execution_count": 3,
   "id": "2acb8de1",
   "metadata": {},
   "outputs": [],
   "source": [
    "# Esta função será responsável por gerar o nome do arquivo de uma imagem a partir\n",
    "# do dataframe criado acima e de um id\n",
    "\n",
    "def getFilenameFromID(df, Id):\n",
    "    filename = \"CC\"\n",
    "    for h in df.columns:\n",
    "        filename+=df[h][Id]+'_'\n",
    "    filename= filename[:-1]+\".nii\"\n",
    "    return filename"
   ]
  },
  {
   "cell_type": "markdown",
   "id": "4c9f23d9",
   "metadata": {},
   "source": [
    "Tambem seria útil criar uma forma de observar as fatias de uma imagem de forma interativa:"
   ]
  },
  {
   "cell_type": "code",
   "execution_count": 6,
   "id": "722cbea9",
   "metadata": {},
   "outputs": [
    {
     "name": "stdout",
     "output_type": "stream",
     "text": [
      "CC0328_ge_3_56_F.nii\n",
      "(176, 256, 256)\n"
     ]
    },
    {
     "data": {
      "application/vnd.jupyter.widget-view+json": {
       "model_id": "eb3840ca38d4454696748b10f18b718d",
       "version_major": 2,
       "version_minor": 0
      },
      "text/plain": [
       "interactive(children=(IntSlider(value=87, description='x', max=175), Output()), _dom_classes=('widget-interact…"
      ]
     },
     "metadata": {},
     "output_type": "display_data"
    }
   ],
   "source": [
    "random_id = np.random.randint(0,high=358)\n",
    "filename = getFilenameFromID(df_file_data, random_id)\n",
    "print(filename)\n",
    "\n",
    "img = nib.load(\"../data/raw/\"+filename).get_fdata()\n",
    "print(img.shape)\n",
    "\n",
    "@interact\n",
    "def plot(x=(0,img.shape[0]-1,1)):\n",
    "    plt.imshow(ndi.rotate(img[x,:,:], 90), cmap='gray')\n",
    "    plt.show()"
   ]
  }
 ],
 "metadata": {
  "kernelspec": {
   "display_name": "Python 3 (ipykernel)",
   "language": "python",
   "name": "python3"
  },
  "language_info": {
   "codemirror_mode": {
    "name": "ipython",
    "version": 3
   },
   "file_extension": ".py",
   "mimetype": "text/x-python",
   "name": "python",
   "nbconvert_exporter": "python",
   "pygments_lexer": "ipython3",
   "version": "3.8.10"
  }
 },
 "nbformat": 4,
 "nbformat_minor": 5
}
